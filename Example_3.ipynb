{
  "nbformat": 4,
  "nbformat_minor": 0,
  "metadata": {
    "colab": {
      "name": "Example_3.ipynb",
      "provenance": [],
      "collapsed_sections": [],
      "toc_visible": true,
      "mount_file_id": "1KvRmzRmfINPAZUTHQQ1sc5_rFaRYzOs3",
      "authorship_tag": "ABX9TyMDeZSsvs6lY+Ppt4QyFDmz",
      "include_colab_link": true
    },
    "kernelspec": {
      "name": "python3",
      "display_name": "Python 3"
    },
    "language_info": {
      "name": "python"
    },
    "gpuClass": "standard",
    "accelerator": "GPU"
  },
  "cells": [
    {
      "cell_type": "markdown",
      "metadata": {
        "id": "view-in-github",
        "colab_type": "text"
      },
      "source": [
        "<a href=\"https://colab.research.google.com/github/roblee10/Artwork_Classification/blob/main/Example_3.ipynb\" target=\"_parent\"><img src=\"https://colab.research.google.com/assets/colab-badge.svg\" alt=\"Open In Colab\"/></a>"
      ]
    },
    {
      "cell_type": "code",
      "execution_count": 17,
      "metadata": {
        "id": "wsohRuoCMnGV"
      },
      "outputs": [],
      "source": [
        "import os\n",
        "import gc\n",
        "import copy\n",
        "import pandas as pd# 데이터 시각화 라이브러리\n",
        "import matplotlib.pyplot as plt"
      ]
    },
    {
      "cell_type": "code",
      "source": [
        "!pip install timm\n",
        "import timm\n"
      ],
      "metadata": {
        "colab": {
          "base_uri": "https://localhost:8080/"
        },
        "id": "GL4AkmHZd3C0",
        "outputId": "8fa5a9b1-b4b7-4569-a53a-55973d0830e8"
      },
      "execution_count": 2,
      "outputs": [
        {
          "output_type": "stream",
          "name": "stdout",
          "text": [
            "Looking in indexes: https://pypi.org/simple, https://us-python.pkg.dev/colab-wheels/public/simple/\n",
            "Collecting timm\n",
            "  Downloading timm-0.6.7-py3-none-any.whl (509 kB)\n",
            "\u001b[K     |████████████████████████████████| 509 kB 4.2 MB/s \n",
            "\u001b[?25hRequirement already satisfied: torch>=1.4 in /usr/local/lib/python3.7/dist-packages (from timm) (1.12.1+cu113)\n",
            "Requirement already satisfied: torchvision in /usr/local/lib/python3.7/dist-packages (from timm) (0.13.1+cu113)\n",
            "Requirement already satisfied: typing-extensions in /usr/local/lib/python3.7/dist-packages (from torch>=1.4->timm) (4.1.1)\n",
            "Requirement already satisfied: requests in /usr/local/lib/python3.7/dist-packages (from torchvision->timm) (2.23.0)\n",
            "Requirement already satisfied: pillow!=8.3.*,>=5.3.0 in /usr/local/lib/python3.7/dist-packages (from torchvision->timm) (7.1.2)\n",
            "Requirement already satisfied: numpy in /usr/local/lib/python3.7/dist-packages (from torchvision->timm) (1.21.6)\n",
            "Requirement already satisfied: idna<3,>=2.5 in /usr/local/lib/python3.7/dist-packages (from requests->torchvision->timm) (2.10)\n",
            "Requirement already satisfied: chardet<4,>=3.0.2 in /usr/local/lib/python3.7/dist-packages (from requests->torchvision->timm) (3.0.4)\n",
            "Requirement already satisfied: urllib3!=1.25.0,!=1.25.1,<1.26,>=1.21.1 in /usr/local/lib/python3.7/dist-packages (from requests->torchvision->timm) (1.24.3)\n",
            "Requirement already satisfied: certifi>=2017.4.17 in /usr/local/lib/python3.7/dist-packages (from requests->torchvision->timm) (2022.6.15)\n",
            "Installing collected packages: timm\n",
            "Successfully installed timm-0.6.7\n"
          ]
        }
      ]
    },
    {
      "cell_type": "code",
      "source": [
        "config = {}\n",
        "\n"
      ],
      "metadata": {
        "id": "ICYpCRLmd3Kv"
      },
      "execution_count": 3,
      "outputs": []
    },
    {
      "cell_type": "code",
      "source": [
        "from google.colab import drive # 구글 드라이브 마운트\n",
        "drive.mount('/content/drive')\n"
      ],
      "metadata": {
        "colab": {
          "base_uri": "https://localhost:8080/"
        },
        "id": "UUIAO8LPd3Ta",
        "outputId": "63af334b-0e40-46fa-fa0c-d328f9da02cf"
      },
      "execution_count": 2,
      "outputs": [
        {
          "output_type": "stream",
          "name": "stdout",
          "text": [
            "Drive already mounted at /content/drive; to attempt to forcibly remount, call drive.mount(\"/content/drive\", force_remount=True).\n"
          ]
        }
      ]
    },
    {
      "cell_type": "code",
      "source": [
        "PROJECT_PATH = '/content/drive/MyDrive/Artwork_Classification_Programmers' # 프로젝트 디렉토리\n",
        "\n",
        "TRAIN_PATH = os.path.join(PROJECT_PATH,'train') # 학습 이미지 파일 디렉토리\n",
        "TEST_PATH = os.path.join(PROJECT_PATH,'test') # 테스트 이미지 파일 디렉토리"
      ],
      "metadata": {
        "id": "bDvTQkh_eAas"
      },
      "execution_count": 3,
      "outputs": []
    },
    {
      "cell_type": "code",
      "source": [
        "import zipfile\n",
        "\n",
        "path_to_zip_file_train = os.path.join(PROJECT_PATH,'train.zip') # .zip 파일로 된 학습파일 경로\n",
        "path_to_zip_file_test = os.path.join(PROJECT_PATH,'test.zip') # .zip 파일로 된 테스트파일 경로\n",
        "\n",
        "with zipfile.ZipFile(path_to_zip_file_train, 'r') as zip_ref: # 학습 압축파일 읽어들이기\n",
        "    zip_ref.extractall(PROJECT_PATH) # 프로젝트 디렉토리에 학습 압축파일 풀음\n",
        "\n",
        "with zipfile.ZipFile(path_to_zip_file_test, 'r') as zip_ref: # 테스트 압축파일 읽어들이기\n",
        "    zip_ref.extractall(PROJECT_PATH) # 프로젝트 디렉토리에 테스트 압축파일 풀음"
      ],
      "metadata": {
        "id": "KOI5ghEneOKV"
      },
      "execution_count": null,
      "outputs": []
    },
    {
      "cell_type": "code",
      "source": [
        "# 각 레이블을 번호로 매칭\n",
        "label2idx = {'dog': 0, \n",
        "             'elephant': 1,\n",
        "             'giraffe': 2,\n",
        "             'guitar': 3,\n",
        "             'horse': 4,\n",
        "             'house': 5,\n",
        "             'person': 6}\n",
        "\n",
        "# 각 번호를 레이블에 매칭\n",
        "idx2label = {k:v for v,k in label2idx.items()} # dict.items() 는 key 와 value를 함께 for 문으로 return 해준다.\n"
      ],
      "metadata": {
        "id": "M2sY-Z_EnUrM"
      },
      "execution_count": 5,
      "outputs": []
    },
    {
      "cell_type": "code",
      "source": [
        "# 전체 이미지 파일들의 디렉토리를 저장하는 코드\n",
        "labels = [] # 판다스에 담길 데이터 저장소\n",
        "for path in os.walk(TRAIN_PATH): # TRAIN_PATH 경로 아래를 순차적으로 탐사\n",
        "                                 # path[0] : 디렉토리 경로\n",
        "                                 # path[1] : 현재 디렉토리에 존재하는 폴더 이름\n",
        "                                 # path[2] : 현재 디렉토리에 존재하는 파일 이름\n",
        "\n",
        "    label_type = path[0].split('/')[-1] # 현재 디렉토리 최하위 폴더 이름\n",
        "    if label_type == 'train' : continue # 첫번째 탐사는 디렉토리는 이미지 폴더 아니므로 제외시킨다\n",
        "    \n",
        "    base_path = path[0] # 현재 디렉토리\n",
        "    images = path[2] # 디렉토리 내 이미지 파일 이름\n",
        "\n",
        "    idx = label2idx[label_type] # 각 레이블을 숫자로 변환\n",
        "    for image in images: # 각 디렉토리의 이미지들 순차적으로 가져온다\n",
        "        image_path = os.path.join(base_path,image) # 전체 이미지 파일의 디렉토리를 얻어내고\n",
        "        label = {'img_path':image_path, # 이미지 전체 경로 저장\n",
        "                 'label': idx} # 변환된 인덱스 저장\n",
        "        labels.append(label)\n",
        "\n",
        "\n",
        "train_df = pd.DataFrame(labels)\n",
        "train_df = train_df.sort_values(['label','img_path']) # label 값 기준으로 오름차순 정렬하고, \n",
        "                                                        # 동일 값이 나오면 image_path 기준 오름차순 정렬\n",
        "train_df = train_df.reset_index(drop = True) # sort 되기 전의 index를 버리고 새로 순서대로 다시 지정\n",
        "train_df.head(5) # 위에서부터 5개 출력\n"
      ],
      "metadata": {
        "colab": {
          "base_uri": "https://localhost:8080/",
          "height": 206
        },
        "id": "8ZBWsYDWtP3i",
        "outputId": "002dcadc-5825-44b6-89ba-71b9c64b7428"
      },
      "execution_count": 12,
      "outputs": [
        {
          "output_type": "execute_result",
          "data": {
            "text/plain": [
              "   index                                           img_path  label\n",
              "0      0  /content/drive/MyDrive/Artwork_Classification_...      0\n",
              "1      1  /content/drive/MyDrive/Artwork_Classification_...      0\n",
              "2      2  /content/drive/MyDrive/Artwork_Classification_...      0\n",
              "3      7  /content/drive/MyDrive/Artwork_Classification_...      0\n",
              "4      9  /content/drive/MyDrive/Artwork_Classification_...      0"
            ],
            "text/html": [
              "\n",
              "  <div id=\"df-65edf009-27de-4578-89d8-a78067c5c9f1\">\n",
              "    <div class=\"colab-df-container\">\n",
              "      <div>\n",
              "<style scoped>\n",
              "    .dataframe tbody tr th:only-of-type {\n",
              "        vertical-align: middle;\n",
              "    }\n",
              "\n",
              "    .dataframe tbody tr th {\n",
              "        vertical-align: top;\n",
              "    }\n",
              "\n",
              "    .dataframe thead th {\n",
              "        text-align: right;\n",
              "    }\n",
              "</style>\n",
              "<table border=\"1\" class=\"dataframe\">\n",
              "  <thead>\n",
              "    <tr style=\"text-align: right;\">\n",
              "      <th></th>\n",
              "      <th>index</th>\n",
              "      <th>img_path</th>\n",
              "      <th>label</th>\n",
              "    </tr>\n",
              "  </thead>\n",
              "  <tbody>\n",
              "    <tr>\n",
              "      <th>0</th>\n",
              "      <td>0</td>\n",
              "      <td>/content/drive/MyDrive/Artwork_Classification_...</td>\n",
              "      <td>0</td>\n",
              "    </tr>\n",
              "    <tr>\n",
              "      <th>1</th>\n",
              "      <td>1</td>\n",
              "      <td>/content/drive/MyDrive/Artwork_Classification_...</td>\n",
              "      <td>0</td>\n",
              "    </tr>\n",
              "    <tr>\n",
              "      <th>2</th>\n",
              "      <td>2</td>\n",
              "      <td>/content/drive/MyDrive/Artwork_Classification_...</td>\n",
              "      <td>0</td>\n",
              "    </tr>\n",
              "    <tr>\n",
              "      <th>3</th>\n",
              "      <td>7</td>\n",
              "      <td>/content/drive/MyDrive/Artwork_Classification_...</td>\n",
              "      <td>0</td>\n",
              "    </tr>\n",
              "    <tr>\n",
              "      <th>4</th>\n",
              "      <td>9</td>\n",
              "      <td>/content/drive/MyDrive/Artwork_Classification_...</td>\n",
              "      <td>0</td>\n",
              "    </tr>\n",
              "  </tbody>\n",
              "</table>\n",
              "</div>\n",
              "      <button class=\"colab-df-convert\" onclick=\"convertToInteractive('df-65edf009-27de-4578-89d8-a78067c5c9f1')\"\n",
              "              title=\"Convert this dataframe to an interactive table.\"\n",
              "              style=\"display:none;\">\n",
              "        \n",
              "  <svg xmlns=\"http://www.w3.org/2000/svg\" height=\"24px\"viewBox=\"0 0 24 24\"\n",
              "       width=\"24px\">\n",
              "    <path d=\"M0 0h24v24H0V0z\" fill=\"none\"/>\n",
              "    <path d=\"M18.56 5.44l.94 2.06.94-2.06 2.06-.94-2.06-.94-.94-2.06-.94 2.06-2.06.94zm-11 1L8.5 8.5l.94-2.06 2.06-.94-2.06-.94L8.5 2.5l-.94 2.06-2.06.94zm10 10l.94 2.06.94-2.06 2.06-.94-2.06-.94-.94-2.06-.94 2.06-2.06.94z\"/><path d=\"M17.41 7.96l-1.37-1.37c-.4-.4-.92-.59-1.43-.59-.52 0-1.04.2-1.43.59L10.3 9.45l-7.72 7.72c-.78.78-.78 2.05 0 2.83L4 21.41c.39.39.9.59 1.41.59.51 0 1.02-.2 1.41-.59l7.78-7.78 2.81-2.81c.8-.78.8-2.07 0-2.86zM5.41 20L4 18.59l7.72-7.72 1.47 1.35L5.41 20z\"/>\n",
              "  </svg>\n",
              "      </button>\n",
              "      \n",
              "  <style>\n",
              "    .colab-df-container {\n",
              "      display:flex;\n",
              "      flex-wrap:wrap;\n",
              "      gap: 12px;\n",
              "    }\n",
              "\n",
              "    .colab-df-convert {\n",
              "      background-color: #E8F0FE;\n",
              "      border: none;\n",
              "      border-radius: 50%;\n",
              "      cursor: pointer;\n",
              "      display: none;\n",
              "      fill: #1967D2;\n",
              "      height: 32px;\n",
              "      padding: 0 0 0 0;\n",
              "      width: 32px;\n",
              "    }\n",
              "\n",
              "    .colab-df-convert:hover {\n",
              "      background-color: #E2EBFA;\n",
              "      box-shadow: 0px 1px 2px rgba(60, 64, 67, 0.3), 0px 1px 3px 1px rgba(60, 64, 67, 0.15);\n",
              "      fill: #174EA6;\n",
              "    }\n",
              "\n",
              "    [theme=dark] .colab-df-convert {\n",
              "      background-color: #3B4455;\n",
              "      fill: #D2E3FC;\n",
              "    }\n",
              "\n",
              "    [theme=dark] .colab-df-convert:hover {\n",
              "      background-color: #434B5C;\n",
              "      box-shadow: 0px 1px 3px 1px rgba(0, 0, 0, 0.15);\n",
              "      filter: drop-shadow(0px 1px 2px rgba(0, 0, 0, 0.3));\n",
              "      fill: #FFFFFF;\n",
              "    }\n",
              "  </style>\n",
              "\n",
              "      <script>\n",
              "        const buttonEl =\n",
              "          document.querySelector('#df-65edf009-27de-4578-89d8-a78067c5c9f1 button.colab-df-convert');\n",
              "        buttonEl.style.display =\n",
              "          google.colab.kernel.accessAllowed ? 'block' : 'none';\n",
              "\n",
              "        async function convertToInteractive(key) {\n",
              "          const element = document.querySelector('#df-65edf009-27de-4578-89d8-a78067c5c9f1');\n",
              "          const dataTable =\n",
              "            await google.colab.kernel.invokeFunction('convertToInteractive',\n",
              "                                                     [key], {});\n",
              "          if (!dataTable) return;\n",
              "\n",
              "          const docLinkHtml = 'Like what you see? Visit the ' +\n",
              "            '<a target=\"_blank\" href=https://colab.research.google.com/notebooks/data_table.ipynb>data table notebook</a>'\n",
              "            + ' to learn more about interactive tables.';\n",
              "          element.innerHTML = '';\n",
              "          dataTable['output_type'] = 'display_data';\n",
              "          await google.colab.output.renderOutput(dataTable, element);\n",
              "          const docLink = document.createElement('div');\n",
              "          docLink.innerHTML = docLinkHtml;\n",
              "          element.appendChild(docLink);\n",
              "        }\n",
              "      </script>\n",
              "    </div>\n",
              "  </div>\n",
              "  "
            ]
          },
          "metadata": {},
          "execution_count": 12
        }
      ]
    },
    {
      "cell_type": "code",
      "source": [
        "labels = []\n",
        "for path in os.walk(TEST_PATH):\n",
        "    base_path = path[0]\n",
        "    if base_path.split('/')[-1] == 'test' : continue\n",
        "    imgages = path[2]\n",
        "\n",
        "    idx = -1\n",
        "    for image in images:\n",
        "        img_path = os.path.join(base_path,image)\n",
        "        label = {'img_path' : img_path,\n",
        "                  'iabel' : idx}\n",
        "        labels.append(label)\n",
        "test_df = pd.DataFrame(labels)\n",
        "test_df = test_df.sort_values(['img_path'])\n",
        "test_df = test_df.reset_index(drop=True)\n",
        "test_df.head(5)"
      ],
      "metadata": {
        "colab": {
          "base_uri": "https://localhost:8080/",
          "height": 263
        },
        "id": "0Lo7j9u28vm5",
        "outputId": "ee67823a-4674-475d-8544-a6fb8d137c43"
      },
      "execution_count": 20,
      "outputs": [
        {
          "output_type": "stream",
          "name": "stdout",
          "text": [
            "('/content/drive/MyDrive/Artwork_Classification_Programmers/test', ['0'], [])\n",
            "('/content/drive/MyDrive/Artwork_Classification_Programmers/test/0', [], ['0001.jpg', '0002.jpg', '0003.jpg', '0004.jpg', '0005.jpg', '0006.jpg', '0007.jpg', '0008.jpg', '0009.jpg', '0010.jpg', '0011.jpg', '0012.jpg', '0013.jpg', '0014.jpg', '0015.jpg', '0016.jpg', '0017.jpg', '0018.jpg', '0019.jpg', '0020.jpg', '0021.jpg', '0022.jpg', '0023.jpg', '0024.jpg', '0025.jpg', '0026.jpg', '0027.jpg', '0028.jpg', '0029.jpg', '0030.jpg', '0031.jpg', '0032.jpg', '0033.jpg', '0034.jpg', '0035.jpg', '0036.jpg', '0037.jpg', '0038.jpg', '0039.jpg', '0040.jpg', '0041.jpg', '0042.jpg', '0043.jpg', '0044.jpg', '0045.jpg', '0046.jpg', '0047.jpg', '0048.jpg', '0049.jpg', '0050.jpg', '0051.jpg', '0052.jpg', '0053.jpg', '0054.jpg', '0055.jpg', '0056.jpg', '0057.jpg', '0058.jpg', '0059.jpg', '0060.jpg', '0061.jpg', '0062.jpg', '0063.jpg', '0064.jpg', '0065.jpg', '0066.jpg', '0067.jpg', '0068.jpg', '0069.jpg', '0070.jpg', '0071.jpg', '0072.jpg', '0073.jpg', '0074.jpg', '0075.jpg', '0076.jpg', '0077.jpg', '0078.jpg', '0079.jpg', '0080.jpg', '0081.jpg', '0082.jpg', '0083.jpg', '0084.jpg', '0085.jpg', '0086.jpg', '0087.jpg', '0088.jpg', '0089.jpg', '0090.jpg', '0091.jpg', '0092.jpg', '0093.jpg', '0094.jpg', '0095.jpg', '0096.jpg', '0097.jpg', '0098.jpg', '0099.jpg', '0100.jpg', '0101.jpg', '0102.jpg', '0103.jpg', '0104.jpg', '0105.jpg', '0106.jpg', '0107.jpg', '0108.jpg', '0109.jpg', '0110.jpg', '0111.jpg', '0112.jpg', '0113.jpg', '0114.jpg', '0115.jpg', '0116.jpg', '0117.jpg', '0118.jpg', '0119.jpg', '0120.jpg', '0121.jpg', '0122.jpg', '0123.jpg', '0124.jpg', '0125.jpg', '0126.jpg', '0127.jpg', '0128.jpg', '0129.jpg', '0130.jpg', '0131.jpg', '0132.jpg', '0133.jpg', '0134.jpg', '0135.jpg', '0136.jpg', '0137.jpg', '0138.jpg', '0139.jpg', '0140.jpg', '0141.jpg', '0142.jpg', '0143.jpg', '0144.jpg', '0145.jpg', '0146.jpg', '0147.jpg', '0148.jpg', '0149.jpg', '0150.jpg', '0151.jpg', '0152.jpg', '0153.jpg', '0154.jpg', '0155.jpg', '0156.jpg', '0157.jpg', '0158.jpg', '0159.jpg', '0160.jpg', '0161.jpg', '0162.jpg', '0163.jpg', '0164.jpg', '0165.jpg', '0166.jpg', '0167.jpg', '0168.jpg', '0169.jpg', '0170.jpg', '0171.jpg', '0172.jpg', '0173.jpg', '0174.jpg', '0175.jpg', '0176.jpg', '0177.jpg', '0178.jpg', '0179.jpg', '0180.jpg', '0181.jpg', '0182.jpg', '0183.jpg', '0184.jpg', '0185.jpg', '0186.jpg', '0187.jpg', '0188.jpg', '0189.jpg', '0190.jpg', '0191.jpg', '0192.jpg', '0193.jpg', '0194.jpg', '0195.jpg', '0196.jpg', '0197.jpg', '0198.jpg', '0199.jpg', '0200.jpg', '0201.jpg', '0202.jpg', '0203.jpg', '0204.jpg', '0205.jpg', '0206.jpg', '0207.jpg', '0208.jpg', '0209.jpg', '0210.jpg', '0211.jpg', '0212.jpg', '0213.jpg', '0214.jpg', '0215.jpg', '0216.jpg', '0217.jpg', '0218.jpg', '0219.jpg', '0220.jpg', '0221.jpg', '0222.jpg', '0223.jpg', '0224.jpg', '0225.jpg', '0226.jpg', '0227.jpg', '0228.jpg', '0229.jpg', '0230.jpg', '0231.jpg', '0232.jpg', '0233.jpg', '0234.jpg', '0235.jpg', '0236.jpg', '0237.jpg', '0238.jpg', '0239.jpg', '0240.jpg', '0241.jpg', '0242.jpg', '0243.jpg', '0244.jpg', '0245.jpg', '0246.jpg', '0247.jpg', '0248.jpg', '0249.jpg', '0250.jpg', '0251.jpg', '0252.jpg', '0253.jpg', '0254.jpg', '0255.jpg', '0256.jpg', '0257.jpg', '0258.jpg', '0259.jpg', '0260.jpg', '0261.jpg', '0262.jpg', '0263.jpg', '0264.jpg', '0265.jpg', '0266.jpg', '0267.jpg', '0268.jpg', '0269.jpg', '0270.jpg', '0271.jpg', '0272.jpg', '0273.jpg', '0274.jpg', '0275.jpg', '0276.jpg', '0277.jpg', '0278.jpg', '0279.jpg', '0280.jpg', '0281.jpg', '0282.jpg', '0283.jpg', '0284.jpg', '0285.jpg', '0286.jpg', '0287.jpg', '0288.jpg', '0289.jpg', '0290.jpg', '0291.jpg', '0292.jpg', '0293.jpg', '0294.jpg', '0295.jpg', '0296.jpg', '0297.jpg', '0298.jpg', '0299.jpg', '0300.jpg', '0301.jpg', '0302.jpg', '0303.jpg', '0304.jpg', '0305.jpg', '0306.jpg', '0307.jpg', '0308.jpg', '0309.jpg', '0310.jpg', '0311.jpg', '0312.jpg', '0313.jpg', '0314.jpg', '0315.jpg', '0316.jpg', '0317.jpg', '0318.jpg', '0319.jpg', '0320.jpg', '0321.jpg', '0322.jpg', '0323.jpg', '0324.jpg', '0325.jpg', '0326.jpg', '0327.jpg', '0328.jpg', '0329.jpg', '0330.jpg', '0331.jpg', '0332.jpg', '0333.jpg', '0334.jpg', '0335.jpg', '0336.jpg', '0337.jpg', '0338.jpg', '0339.jpg', '0340.jpg', '0341.jpg', '0342.jpg', '0343.jpg', '0344.jpg', '0345.jpg', '0346.jpg', '0347.jpg', '0348.jpg', '0349.jpg', '0350.jpg'])\n"
          ]
        },
        {
          "output_type": "execute_result",
          "data": {
            "text/plain": [
              "                                            img_path  iabel\n",
              "0  /content/drive/MyDrive/Artwork_Classification_...     -1\n",
              "1  /content/drive/MyDrive/Artwork_Classification_...     -1\n",
              "2  /content/drive/MyDrive/Artwork_Classification_...     -1\n",
              "3  /content/drive/MyDrive/Artwork_Classification_...     -1\n",
              "4  /content/drive/MyDrive/Artwork_Classification_...     -1"
            ],
            "text/html": [
              "\n",
              "  <div id=\"df-90372516-b8cc-4e54-bff6-5c34a40dfee1\">\n",
              "    <div class=\"colab-df-container\">\n",
              "      <div>\n",
              "<style scoped>\n",
              "    .dataframe tbody tr th:only-of-type {\n",
              "        vertical-align: middle;\n",
              "    }\n",
              "\n",
              "    .dataframe tbody tr th {\n",
              "        vertical-align: top;\n",
              "    }\n",
              "\n",
              "    .dataframe thead th {\n",
              "        text-align: right;\n",
              "    }\n",
              "</style>\n",
              "<table border=\"1\" class=\"dataframe\">\n",
              "  <thead>\n",
              "    <tr style=\"text-align: right;\">\n",
              "      <th></th>\n",
              "      <th>img_path</th>\n",
              "      <th>iabel</th>\n",
              "    </tr>\n",
              "  </thead>\n",
              "  <tbody>\n",
              "    <tr>\n",
              "      <th>0</th>\n",
              "      <td>/content/drive/MyDrive/Artwork_Classification_...</td>\n",
              "      <td>-1</td>\n",
              "    </tr>\n",
              "    <tr>\n",
              "      <th>1</th>\n",
              "      <td>/content/drive/MyDrive/Artwork_Classification_...</td>\n",
              "      <td>-1</td>\n",
              "    </tr>\n",
              "    <tr>\n",
              "      <th>2</th>\n",
              "      <td>/content/drive/MyDrive/Artwork_Classification_...</td>\n",
              "      <td>-1</td>\n",
              "    </tr>\n",
              "    <tr>\n",
              "      <th>3</th>\n",
              "      <td>/content/drive/MyDrive/Artwork_Classification_...</td>\n",
              "      <td>-1</td>\n",
              "    </tr>\n",
              "    <tr>\n",
              "      <th>4</th>\n",
              "      <td>/content/drive/MyDrive/Artwork_Classification_...</td>\n",
              "      <td>-1</td>\n",
              "    </tr>\n",
              "  </tbody>\n",
              "</table>\n",
              "</div>\n",
              "      <button class=\"colab-df-convert\" onclick=\"convertToInteractive('df-90372516-b8cc-4e54-bff6-5c34a40dfee1')\"\n",
              "              title=\"Convert this dataframe to an interactive table.\"\n",
              "              style=\"display:none;\">\n",
              "        \n",
              "  <svg xmlns=\"http://www.w3.org/2000/svg\" height=\"24px\"viewBox=\"0 0 24 24\"\n",
              "       width=\"24px\">\n",
              "    <path d=\"M0 0h24v24H0V0z\" fill=\"none\"/>\n",
              "    <path d=\"M18.56 5.44l.94 2.06.94-2.06 2.06-.94-2.06-.94-.94-2.06-.94 2.06-2.06.94zm-11 1L8.5 8.5l.94-2.06 2.06-.94-2.06-.94L8.5 2.5l-.94 2.06-2.06.94zm10 10l.94 2.06.94-2.06 2.06-.94-2.06-.94-.94-2.06-.94 2.06-2.06.94z\"/><path d=\"M17.41 7.96l-1.37-1.37c-.4-.4-.92-.59-1.43-.59-.52 0-1.04.2-1.43.59L10.3 9.45l-7.72 7.72c-.78.78-.78 2.05 0 2.83L4 21.41c.39.39.9.59 1.41.59.51 0 1.02-.2 1.41-.59l7.78-7.78 2.81-2.81c.8-.78.8-2.07 0-2.86zM5.41 20L4 18.59l7.72-7.72 1.47 1.35L5.41 20z\"/>\n",
              "  </svg>\n",
              "      </button>\n",
              "      \n",
              "  <style>\n",
              "    .colab-df-container {\n",
              "      display:flex;\n",
              "      flex-wrap:wrap;\n",
              "      gap: 12px;\n",
              "    }\n",
              "\n",
              "    .colab-df-convert {\n",
              "      background-color: #E8F0FE;\n",
              "      border: none;\n",
              "      border-radius: 50%;\n",
              "      cursor: pointer;\n",
              "      display: none;\n",
              "      fill: #1967D2;\n",
              "      height: 32px;\n",
              "      padding: 0 0 0 0;\n",
              "      width: 32px;\n",
              "    }\n",
              "\n",
              "    .colab-df-convert:hover {\n",
              "      background-color: #E2EBFA;\n",
              "      box-shadow: 0px 1px 2px rgba(60, 64, 67, 0.3), 0px 1px 3px 1px rgba(60, 64, 67, 0.15);\n",
              "      fill: #174EA6;\n",
              "    }\n",
              "\n",
              "    [theme=dark] .colab-df-convert {\n",
              "      background-color: #3B4455;\n",
              "      fill: #D2E3FC;\n",
              "    }\n",
              "\n",
              "    [theme=dark] .colab-df-convert:hover {\n",
              "      background-color: #434B5C;\n",
              "      box-shadow: 0px 1px 3px 1px rgba(0, 0, 0, 0.15);\n",
              "      filter: drop-shadow(0px 1px 2px rgba(0, 0, 0, 0.3));\n",
              "      fill: #FFFFFF;\n",
              "    }\n",
              "  </style>\n",
              "\n",
              "      <script>\n",
              "        const buttonEl =\n",
              "          document.querySelector('#df-90372516-b8cc-4e54-bff6-5c34a40dfee1 button.colab-df-convert');\n",
              "        buttonEl.style.display =\n",
              "          google.colab.kernel.accessAllowed ? 'block' : 'none';\n",
              "\n",
              "        async function convertToInteractive(key) {\n",
              "          const element = document.querySelector('#df-90372516-b8cc-4e54-bff6-5c34a40dfee1');\n",
              "          const dataTable =\n",
              "            await google.colab.kernel.invokeFunction('convertToInteractive',\n",
              "                                                     [key], {});\n",
              "          if (!dataTable) return;\n",
              "\n",
              "          const docLinkHtml = 'Like what you see? Visit the ' +\n",
              "            '<a target=\"_blank\" href=https://colab.research.google.com/notebooks/data_table.ipynb>data table notebook</a>'\n",
              "            + ' to learn more about interactive tables.';\n",
              "          element.innerHTML = '';\n",
              "          dataTable['output_type'] = 'display_data';\n",
              "          await google.colab.output.renderOutput(dataTable, element);\n",
              "          const docLink = document.createElement('div');\n",
              "          docLink.innerHTML = docLinkHtml;\n",
              "          element.appendChild(docLink);\n",
              "        }\n",
              "      </script>\n",
              "    </div>\n",
              "  </div>\n",
              "  "
            ]
          },
          "metadata": {},
          "execution_count": 20
        }
      ]
    },
    {
      "cell_type": "code",
      "source": [
        "image = plt.imread(train_df['img_path'][0]) # 이미지 읽기\n",
        "plt.imshow(image) # 이미지 출력"
      ],
      "metadata": {
        "colab": {
          "base_uri": "https://localhost:8080/",
          "height": 287
        },
        "id": "w0n6nYmGyomH",
        "outputId": "f490bd60-9592-4135-a22d-82371f08cc0a"
      },
      "execution_count": 19,
      "outputs": [
        {
          "output_type": "execute_result",
          "data": {
            "text/plain": [
              "<matplotlib.image.AxesImage at 0x7f4589e321d0>"
            ]
          },
          "metadata": {},
          "execution_count": 19
        },
        {
          "output_type": "display_data",
          "data": {
            "text/plain": [
              "<Figure size 432x288 with 1 Axes>"
            ],
            "image/png": "[encoded data removed]"
          },
          "metadata": {
            "needs_background": "light"
          }
        }
      ]
    },
    {
      "cell_type": "code",
      "source": [
        "train_df.groupby('label').count()"
      ],
      "metadata": {
        "colab": {
          "base_uri": "https://localhost:8080/",
          "height": 300
        },
        "id": "0wA8ZL3d2HlQ",
        "outputId": "f44ba876-ecd2-4102-db7c-28a01c4dde2f"
      },
      "execution_count": 21,
      "outputs": [
        {
          "output_type": "execute_result",
          "data": {
            "text/plain": [
              "       index  img_path\n",
              "label                 \n",
              "0        329       329\n",
              "1        205       205\n",
              "2        235       235\n",
              "3        134       134\n",
              "4        151       151\n",
              "5        245       245\n",
              "6        399       399"
            ],
            "text/html": [
              "\n",
              "  <div id=\"df-19c84981-ef75-4e60-9022-3d9836c3a8dd\">\n",
              "    <div class=\"colab-df-container\">\n",
              "      <div>\n",
              "<style scoped>\n",
              "    .dataframe tbody tr th:only-of-type {\n",
              "        vertical-align: middle;\n",
              "    }\n",
              "\n",
              "    .dataframe tbody tr th {\n",
              "        vertical-align: top;\n",
              "    }\n",
              "\n",
              "    .dataframe thead th {\n",
              "        text-align: right;\n",
              "    }\n",
              "</style>\n",
              "<table border=\"1\" class=\"dataframe\">\n",
              "  <thead>\n",
              "    <tr style=\"text-align: right;\">\n",
              "      <th></th>\n",
              "      <th>index</th>\n",
              "      <th>img_path</th>\n",
              "    </tr>\n",
              "    <tr>\n",
              "      <th>label</th>\n",
              "      <th></th>\n",
              "      <th></th>\n",
              "    </tr>\n",
              "  </thead>\n",
              "  <tbody>\n",
              "    <tr>\n",
              "      <th>0</th>\n",
              "      <td>329</td>\n",
              "      <td>329</td>\n",
              "    </tr>\n",
              "    <tr>\n",
              "      <th>1</th>\n",
              "      <td>205</td>\n",
              "      <td>205</td>\n",
              "    </tr>\n",
              "    <tr>\n",
              "      <th>2</th>\n",
              "      <td>235</td>\n",
              "      <td>235</td>\n",
              "    </tr>\n",
              "    <tr>\n",
              "      <th>3</th>\n",
              "      <td>134</td>\n",
              "      <td>134</td>\n",
              "    </tr>\n",
              "    <tr>\n",
              "      <th>4</th>\n",
              "      <td>151</td>\n",
              "      <td>151</td>\n",
              "    </tr>\n",
              "    <tr>\n",
              "      <th>5</th>\n",
              "      <td>245</td>\n",
              "      <td>245</td>\n",
              "    </tr>\n",
              "    <tr>\n",
              "      <th>6</th>\n",
              "      <td>399</td>\n",
              "      <td>399</td>\n",
              "    </tr>\n",
              "  </tbody>\n",
              "</table>\n",
              "</div>\n",
              "      <button class=\"colab-df-convert\" onclick=\"convertToInteractive('df-19c84981-ef75-4e60-9022-3d9836c3a8dd')\"\n",
              "              title=\"Convert this dataframe to an interactive table.\"\n",
              "              style=\"display:none;\">\n",
              "        \n",
              "  <svg xmlns=\"http://www.w3.org/2000/svg\" height=\"24px\"viewBox=\"0 0 24 24\"\n",
              "       width=\"24px\">\n",
              "    <path d=\"M0 0h24v24H0V0z\" fill=\"none\"/>\n",
              "    <path d=\"M18.56 5.44l.94 2.06.94-2.06 2.06-.94-2.06-.94-.94-2.06-.94 2.06-2.06.94zm-11 1L8.5 8.5l.94-2.06 2.06-.94-2.06-.94L8.5 2.5l-.94 2.06-2.06.94zm10 10l.94 2.06.94-2.06 2.06-.94-2.06-.94-.94-2.06-.94 2.06-2.06.94z\"/><path d=\"M17.41 7.96l-1.37-1.37c-.4-.4-.92-.59-1.43-.59-.52 0-1.04.2-1.43.59L10.3 9.45l-7.72 7.72c-.78.78-.78 2.05 0 2.83L4 21.41c.39.39.9.59 1.41.59.51 0 1.02-.2 1.41-.59l7.78-7.78 2.81-2.81c.8-.78.8-2.07 0-2.86zM5.41 20L4 18.59l7.72-7.72 1.47 1.35L5.41 20z\"/>\n",
              "  </svg>\n",
              "      </button>\n",
              "      \n",
              "  <style>\n",
              "    .colab-df-container {\n",
              "      display:flex;\n",
              "      flex-wrap:wrap;\n",
              "      gap: 12px;\n",
              "    }\n",
              "\n",
              "    .colab-df-convert {\n",
              "      background-color: #E8F0FE;\n",
              "      border: none;\n",
              "      border-radius: 50%;\n",
              "      cursor: pointer;\n",
              "      display: none;\n",
              "      fill: #1967D2;\n",
              "      height: 32px;\n",
              "      padding: 0 0 0 0;\n",
              "      width: 32px;\n",
              "    }\n",
              "\n",
              "    .colab-df-convert:hover {\n",
              "      background-color: #E2EBFA;\n",
              "      box-shadow: 0px 1px 2px rgba(60, 64, 67, 0.3), 0px 1px 3px 1px rgba(60, 64, 67, 0.15);\n",
              "      fill: #174EA6;\n",
              "    }\n",
              "\n",
              "    [theme=dark] .colab-df-convert {\n",
              "      background-color: #3B4455;\n",
              "      fill: #D2E3FC;\n",
              "    }\n",
              "\n",
              "    [theme=dark] .colab-df-convert:hover {\n",
              "      background-color: #434B5C;\n",
              "      box-shadow: 0px 1px 3px 1px rgba(0, 0, 0, 0.15);\n",
              "      filter: drop-shadow(0px 1px 2px rgba(0, 0, 0, 0.3));\n",
              "      fill: #FFFFFF;\n",
              "    }\n",
              "  </style>\n",
              "\n",
              "      <script>\n",
              "        const buttonEl =\n",
              "          document.querySelector('#df-19c84981-ef75-4e60-9022-3d9836c3a8dd button.colab-df-convert');\n",
              "        buttonEl.style.display =\n",
              "          google.colab.kernel.accessAllowed ? 'block' : 'none';\n",
              "\n",
              "        async function convertToInteractive(key) {\n",
              "          const element = document.querySelector('#df-19c84981-ef75-4e60-9022-3d9836c3a8dd');\n",
              "          const dataTable =\n",
              "            await google.colab.kernel.invokeFunction('convertToInteractive',\n",
              "                                                     [key], {});\n",
              "          if (!dataTable) return;\n",
              "\n",
              "          const docLinkHtml = 'Like what you see? Visit the ' +\n",
              "            '<a target=\"_blank\" href=https://colab.research.google.com/notebooks/data_table.ipynb>data table notebook</a>'\n",
              "            + ' to learn more about interactive tables.';\n",
              "          element.innerHTML = '';\n",
              "          dataTable['output_type'] = 'display_data';\n",
              "          await google.colab.output.renderOutput(dataTable, element);\n",
              "          const docLink = document.createElement('div');\n",
              "          docLink.innerHTML = docLinkHtml;\n",
              "          element.appendChild(docLink);\n",
              "        }\n",
              "      </script>\n",
              "    </div>\n",
              "  </div>\n",
              "  "
            ]
          },
          "metadata": {},
          "execution_count": 21
        }
      ]
    },
    {
      "cell_type": "code",
      "source": [
        ""
      ],
      "metadata": {
        "id": "fFIc2HV22fMW"
      },
      "execution_count": null,
      "outputs": []
    }
  ]
}